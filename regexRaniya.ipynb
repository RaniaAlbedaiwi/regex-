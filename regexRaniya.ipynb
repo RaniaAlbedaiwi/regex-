{
  "cells": [
    {
      "cell_type": "markdown",
      "metadata": {
        "id": "7LocsJhW6T4Z"
      },
      "source": [
        "# Exercise: Regular Expressions"
      ]
    },
    {
      "cell_type": "code",
      "execution_count": 4,
      "metadata": {
        "id": "rAvIDK176T4c"
      },
      "outputs": [],
      "source": [
        "import re"
      ]
    },
    {
      "cell_type": "code",
      "execution_count": 5,
      "metadata": {
        "colab": {
          "base_uri": "https://localhost:8080/"
        },
        "id": "lv1-4ECC6T4c",
        "outputId": "664cb565-da1d-4c68-e51e-5ee84bfdab97"
      },
      "outputs": [
        {
          "output_type": "stream",
          "name": "stdout",
          "text": [
            "Username: john\n",
            "Mailserver: email\n",
            "Domain: com\n",
            "\n",
            "Username: mary\n",
            "Mailserver: otherplace\n",
            "Domain: net\n",
            "\n",
            "Username: support\n",
            "Mailserver: ourcompany\n",
            "Domain: co\n",
            "\n"
          ]
        }
      ],
      "source": [
        "#1 Question: Match all email addresses (SOLVED)\n",
        "\n",
        "inputs = [\"My email is john@email.com and mary@otherplace.net\",\n",
        "          \"Visit us at support@ourcompany.co.uk for help\",\n",
        "          \"No emails here\"]\n",
        "\n",
        "pattern = r\"(\\w+)@(\\w+)\\.(\\w+)\"\n",
        "\n",
        "matches = []\n",
        "for input in inputs:\n",
        "    matches += re.findall(pattern, input)\n",
        "\n",
        "for m in matches:\n",
        "    username = m[0]\n",
        "    mailserver = m[1]\n",
        "    domain = m[2]\n",
        "    print(f\"Username: {username}\")\n",
        "    print(f\"Mailserver: {mailserver}\")\n",
        "    print(f\"Domain: {domain}\")\n",
        "    print('')"
      ]
    },
    {
      "cell_type": "code",
      "execution_count": 6,
      "metadata": {
        "colab": {
          "base_uri": "https://localhost:8080/"
        },
        "id": "-_vBBgVL6T4d",
        "outputId": "4f1c327a-d6db-4c87-8a96-1b45a03fa0a3"
      },
      "outputs": [
        {
          "output_type": "stream",
          "name": "stdout",
          "text": [
            "Domain: email.com\n",
            "\n",
            "Domain: gmail.com\n",
            "\n",
            "Domain: ourcompany.co.uk\n",
            "\n"
          ]
        }
      ],
      "source": [
        "#2 Question: Extract domain from email\n",
        "\n",
        "\n",
        "def extract_domains(emails):\n",
        "    pattern = r\"@(.+)$\"\n",
        "    matches = [re.search(pattern, email).group(1) for email in emails if re.search(pattern, email)]\n",
        "    return matches\n",
        "\n",
        "inputs = [\"john@email.com\",\n",
        "          \"mary+newsletter@gmail.com\",\n",
        "          \"support@ourcompany.co.uk\"]\n",
        "\n",
        "domains = extract_domains(inputs)\n",
        "\n",
        "for domain in domains:\n",
        "    print(f\"Domain: {domain}\")\n",
        "    print('')"
      ]
    },
    {
      "cell_type": "code",
      "execution_count": 7,
      "metadata": {
        "colab": {
          "base_uri": "https://localhost:8080/"
        },
        "id": "xh5UPCUH6T4e",
        "outputId": "da39285b-e5b1-42aa-9bdd-bc42253c8995"
      },
      "outputs": [
        {
          "output_type": "stream",
          "name": "stdout",
          "text": [
            "555-123-4567\n"
          ]
        }
      ],
      "source": [
        "#3 Question: Validate phone number\n",
        "\n",
        "def validate_phone_numbers(texts):\n",
        "    pattern = r'\\b(\\d{3}[-.\\s]?\\d{3}[-.\\s]?\\d{4}|\\(\\d{3}\\)\\s?\\d{3}[-.\\s]?\\d{4})\\b'\n",
        "    phone_numbers = [match for text in texts for match in re.findall(pattern, text)]\n",
        "    return phone_numbers\n",
        "\n",
        "inputs = [\"555-123-4567\",\n",
        "          \"1 (234) 567-8910\",\n",
        "          \"notaphonenumber\"]\n",
        "\n",
        "phone_numbers = validate_phone_numbers(inputs)\n",
        "\n",
        "for phone_number in phone_numbers:\n",
        "    print(phone_number)"
      ]
    },
    {
      "cell_type": "code",
      "execution_count": 8,
      "metadata": {
        "colab": {
          "base_uri": "https://localhost:8080/"
        },
        "id": "Z_SJNJGX6T4e",
        "outputId": "d6bd68ac-68a7-4e60-c022-66b56b0558c6"
      },
      "outputs": [
        {
          "output_type": "stream",
          "name": "stdout",
          "text": [
            "555\n",
            "234\n",
            "None\n"
          ]
        }
      ],
      "source": [
        "#4 Question: Extract area code\n",
        "\n",
        "inputs = [\"(555) 123-4567\",\n",
        "          \"1 (234) 567-8910\",\n",
        "          \"5551234567\"]\n",
        "\n",
        "pattern = r'\\((\\d{3})\\)|(\\d{3})\\s|-|\\s'\n",
        "\n",
        "def extract_area_code(phone_number):\n",
        "    matches = [group for match in re.findall(pattern, phone_number) for group in match if group]\n",
        "    return matches[0] if matches else None\n",
        "\n",
        "for phone_number in inputs:\n",
        "    area_code = extract_area_code(phone_number)\n",
        "    print(area_code)"
      ]
    },
    {
      "cell_type": "code",
      "execution_count": 9,
      "metadata": {
        "colab": {
          "base_uri": "https://localhost:8080/"
        },
        "id": "iOfBRIBN6T4e",
        "outputId": "e7b6d9ad-3bc7-4154-bdf5-72d6053bd1c6"
      },
      "outputs": [
        {
          "output_type": "stream",
          "name": "stdout",
          "text": [
            "www.example.com\n"
          ]
        }
      ],
      "source": [
        "#5 Question: Match URLs and extract host\n",
        "\n",
        "inputs = [\"Visit https://www.example.com for more info\",\n",
        "          \"Our website is example.com\",\n",
        "          \"No URLs here\"]\n",
        "\n",
        "pattern = r'https?://([A-Za-z0-9.-]+)'\n",
        "\n",
        "def extract_host_from_urls(texts):\n",
        "    hosts = [re.findall(pattern, text)[0] for text in texts if re.findall(pattern, text)]\n",
        "    return hosts\n",
        "\n",
        "hosts = extract_host_from_urls(inputs)\n",
        "\n",
        "for host in hosts:\n",
        "    print(host)"
      ]
    },
    {
      "cell_type": "code",
      "execution_count": 10,
      "metadata": {
        "colab": {
          "base_uri": "https://localhost:8080/"
        },
        "id": "27ZH-jEa6T4f",
        "outputId": "6a4e237e-2968-41c0-f5d6-85bed94c7e6f"
      },
      "outputs": [
        {
          "output_type": "stream",
          "name": "stdout",
          "text": [
            "Hello world\n",
            " Main St\n",
            "greetingsmore\n"
          ]
        }
      ],
      "source": [
        "#6 Question: Remove non-alphabetic characters\n",
        "\n",
        "\n",
        "inputs = [\"Hello world!\",\n",
        "          \"123 Main St.\",\n",
        "          \"greetings&more\"]\n",
        "\n",
        "def remove_non_alphabetic(texts):\n",
        "    cleaned_texts = [re.sub(r'[^a-zA-Z ]', '', text) for text in texts]\n",
        "    return cleaned_texts\n",
        "\n",
        "cleaned_inputs = remove_non_alphabetic(inputs)\n",
        "\n",
        "for cleaned_text in cleaned_inputs:\n",
        "    print(cleaned_text)"
      ]
    },
    {
      "cell_type": "code",
      "execution_count": 11,
      "metadata": {
        "colab": {
          "base_uri": "https://localhost:8080/"
        },
        "id": "6ZDkI9-96T4f",
        "outputId": "0947da1d-dc16-4ccd-db60-ea1cc0beb92e"
      },
      "outputs": [
        {
          "output_type": "stream",
          "name": "stdout",
          "text": [
            "['station']\n",
            "['tion']\n",
            "['motion', 'activation', 'vacation']\n"
          ]
        }
      ],
      "source": [
        "#7 Question: Find words containing \"tion\"\n",
        "\n",
        "inputs = [\"This is a test sentence with the word station in it.\",\n",
        "          \"No words containing tion here\",\n",
        "          \"motion activation vacation\"]\n",
        "\n",
        "# your code here ...:\n",
        "\n",
        "def find_words_with_tion(texts):\n",
        "    return [re.findall(r'\\b\\w*tion\\w*\\b', text) for text in texts]\n",
        "\n",
        "tion_words_list = find_words_with_tion(inputs)\n",
        "\n",
        "for tion_words in tion_words_list:\n",
        "    if tion_words:\n",
        "        print(tion_words)"
      ]
    },
    {
      "cell_type": "code",
      "execution_count": 12,
      "metadata": {
        "colab": {
          "base_uri": "https://localhost:8080/"
        },
        "id": "CQMD_j4e6T4f",
        "outputId": "52098e21-2d59-4cea-8644-929adf9f282f"
      },
      "outputs": [
        {
          "output_type": "stream",
          "name": "stdout",
          "text": [
            "goodbye world\n",
            "goodbye there\n",
            "no match\n"
          ]
        }
      ],
      "source": [
        "#8 Question: Replace all occurrences of \"hello\" with \"goodbye\"\n",
        "\n",
        "inputs = [\"hello world\",\n",
        "          \"hello there\",\n",
        "          \"no match\"]\n",
        "\n",
        " # your code here ...:\n",
        "\n",
        "\n",
        "def modify_texts(texts, search_pattern, replacement):\n",
        "    return [re.sub(search_pattern, replacement, text) for text in texts]\n",
        "\n",
        "modified_texts = modify_texts(inputs, 'hello', 'goodbye')\n",
        "\n",
        "for text in modified_texts:\n",
        "    print(text)"
      ]
    },
    {
      "cell_type": "code",
      "execution_count": 13,
      "metadata": {
        "colab": {
          "base_uri": "https://localhost:8080/"
        },
        "id": "jEdS7_Wf6T4g",
        "outputId": "b9369a35-7cf0-490f-b4bf-956312c06e1a"
      },
      "outputs": [
        {
          "output_type": "stream",
          "name": "stdout",
          "text": [
            "['2023-01-15']\n",
            "['2023-02-01T13:00:00Z']\n"
          ]
        }
      ],
      "source": [
        "#9 Question: Extract date strings in ISO8601 format\n",
        "\n",
        "inputs = [\"Log from 2023-01-15\",\n",
        "          \"Meeting on 2023-02-01T13:00:00Z\",\n",
        "          \"No dates\"]\n",
        "\n",
        " # your code here ...:\n",
        "\n",
        "\n",
        "def extract_iso8601_dates(texts):\n",
        "    return [re.findall(r'\\d{4}-\\d{2}-\\d{2}(?:T\\d{2}:\\d{2}:\\d{2}Z)?', text) for text in texts]\n",
        "\n",
        "iso8601_dates_list = extract_iso8601_dates(inputs)\n",
        "\n",
        "for iso8601_dates in iso8601_dates_list:\n",
        "    if iso8601_dates:\n",
        "        print(iso8601_dates)"
      ]
    },
    {
      "cell_type": "code",
      "execution_count": 14,
      "metadata": {
        "colab": {
          "base_uri": "https://localhost:8080/"
        },
        "id": "oY5O5Wse6T4g",
        "outputId": "9ba2ee1e-9b28-4a57-f231-4931fed3ccfe"
      },
      "outputs": [
        {
          "output_type": "stream",
          "name": "stdout",
          "text": [
            "\"2023-01-15\" is valid: True\n",
            "\"02/01/2023\" is valid: False\n",
            "\"invalid date\" is valid: False\n"
          ]
        }
      ],
      "source": [
        "#10 Question: Validate correctly formatted date\n",
        "\n",
        "inputs = [\"2023-01-15\",\n",
        "          \"02/01/2023\",\n",
        "          \"invalid date\"]\n",
        "\n",
        " # your code here ...:\n",
        "\n",
        "\n",
        "\n",
        "def validate_dates(dates):\n",
        "    return [re.match(r'\\d{4}-\\d{2}-\\d{2}', date) is not None for date in dates]\n",
        "\n",
        "validity_list = validate_dates(inputs)\n",
        "\n",
        "for date, is_valid in zip(inputs, validity_list):\n",
        "    print(f'\"{date}\" is valid: {is_valid}')"
      ]
    },
    {
      "cell_type": "code",
      "execution_count": 16,
      "metadata": {
        "colab": {
          "base_uri": "https://localhost:8080/"
        },
        "id": "CxiCIXAa6T4g",
        "outputId": "9ae764b0-ed28-4b08-c2d5-679029838392"
      },
      "outputs": [
        {
          "output_type": "stream",
          "name": "stdout",
          "text": [
            "Hello World\n",
            "123-Main_St\n",
            "Hi there\n"
          ]
        }
      ],
      "source": [
        "#11 Question: Remove punctuation except hyphens\n",
        "\n",
        "inputs = [\"Hello! World?\",\n",
        "          \"123-Main_St.\",\n",
        "          \"Hi there.\"]\n",
        "\n",
        "def remove_punctuation_except_hyphens(text):\n",
        "    cleaned_text = re.sub(r'[^\\w\\s-]', '', text)\n",
        "    return cleaned_text\n",
        "\n",
        "for i in range(len(inputs)):\n",
        "    inputs[i] = remove_punctuation_except_hyphens(inputs[i])\n",
        "\n",
        "for cleaned_text in inputs:\n",
        "    print(cleaned_text)"
      ]
    },
    {
      "cell_type": "code",
      "execution_count": 17,
      "metadata": {
        "colab": {
          "base_uri": "https://localhost:8080/"
        },
        "id": "3OE19WBD6T4h",
        "outputId": "39c6b1c7-c558-4a06-a38e-da58629905ac"
      },
      "outputs": [
        {
          "output_type": "stream",
          "name": "stdout",
          "text": [
            "The word \"hello\" appears 4 times.\n"
          ]
        }
      ],
      "source": [
        "#12 Question: Count occurrences of a word\n",
        "\n",
        "inputs = [\"Hello world. Hello!\",\n",
        "          \"Hello hello world\",\n",
        "          \"no match\"]\n",
        "\n",
        "# your code here ...:\n",
        "\n",
        "\n",
        "def count_word_occurrences(word, text_list):\n",
        "    word = word.lower()\n",
        "    count = 0\n",
        "\n",
        "    pattern = r'\\b' + re.escape(word) + r'\\b'\n",
        "\n",
        "    for text in text_list:\n",
        "        matches = re.findall(pattern, text.lower())\n",
        "        count += len(matches)\n",
        "\n",
        "    return count\n",
        "\n",
        "word_to_count = \"hello\"\n",
        "occurrences = count_word_occurrences(word_to_count, inputs)\n",
        "print(f'The word \"{word_to_count}\" appears {occurrences} times.')\n"
      ]
    },
    {
      "cell_type": "code",
      "execution_count": 19,
      "metadata": {
        "colab": {
          "base_uri": "https://localhost:8080/"
        },
        "id": "QiOzyntW6T4h",
        "outputId": "2ec0842c-7909-4ec9-8208-e7a75dc6b941"
      },
      "outputs": [
        {
          "output_type": "stream",
          "name": "stdout",
          "text": [
            "['127.0.0.1']\n",
            "['192.168.1.1']\n"
          ]
        }
      ],
      "source": [
        "#13 Question: Extract IP addresses from log\n",
        "\n",
        "inputs = [\"127.0.0.1 - GET /\",\n",
        "          \"User logged in from 192.168.1.1\",\n",
        "          \"No IPs\"]\n",
        "\n",
        "# your code here ...:\n",
        "def extract_ip_addresses(texts):\n",
        "    return [re.findall(r'\\b(?:\\d{1,3}\\.){3}\\d{1,3}\\b', text) for text in texts]\n",
        "\n",
        "ip_addresses_list = extract_ip_addresses(inputs)\n",
        "\n",
        "for ip_addresses in ip_addresses_list:\n",
        "    if ip_addresses:\n",
        "        print(ip_addresses)"
      ]
    },
    {
      "cell_type": "code",
      "execution_count": 20,
      "metadata": {
        "colab": {
          "base_uri": "https://localhost:8080/"
        },
        "id": "VdvebZfW6T4h",
        "outputId": "934329c6-9482-4b14-c1cc-519a81891793"
      },
      "outputs": [
        {
          "output_type": "stream",
          "name": "stdout",
          "text": [
            "Visa: XXXX-XXXX-XXXX-XXXX\n",
            "My SSN is XXX-XX-XXXX\n",
            "No numbers\n"
          ]
        }
      ],
      "source": [
        "#14 Question: Redact credit card and SSN numbers\n",
        "\n",
        "inputs = [\"Visa: 4111-1111-1111-1111\",\n",
        "          \"My SSN is 111-11-1111\",\n",
        "          \"No numbers\"]\n",
        "\n",
        "# your code here ...:\n",
        "def redact_numbers(texts):\n",
        "    return [re.sub(r'\\b\\d{4}-\\d{4}-\\d{4}-\\d{4}\\b', 'XXXX-XXXX-XXXX-XXXX',\n",
        "                   re.sub(r'\\b\\d{3}-\\d{2}-\\d{4}\\b', 'XXX-XX-XXXX', text)) for text in texts]\n",
        "\n",
        "redacted_texts = redact_numbers(inputs)\n",
        "\n",
        "for redacted_text in redacted_texts:\n",
        "    print(redacted_text)"
      ]
    }
  ],
  "metadata": {
    "kernelspec": {
      "display_name": "ds",
      "language": "python",
      "name": "python3"
    },
    "language_info": {
      "codemirror_mode": {
        "name": "ipython",
        "version": 3
      },
      "file_extension": ".py",
      "mimetype": "text/x-python",
      "name": "python",
      "nbconvert_exporter": "python",
      "pygments_lexer": "ipython3",
      "version": "3.9.18"
    },
    "colab": {
      "provenance": []
    }
  },
  "nbformat": 4,
  "nbformat_minor": 0
}